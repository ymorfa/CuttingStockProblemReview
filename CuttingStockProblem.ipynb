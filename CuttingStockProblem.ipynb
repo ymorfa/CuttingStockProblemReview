{
 "cells": [
  {
   "cell_type": "markdown",
   "metadata": {},
   "source": [
    "# **1-D Cutting Stock Problem**\n",
    "\n",
    "The problem involves cutting pieces of a specified length into smaller pieces of specified lengths, minimizing the amount of wasted material. Let's consider having $m$ cables of length $l$. We want to cut $n$ smaller cables of various lengths $w_i$  | $i=1,2,...,n$.\n",
    "\n",
    "\n",
    "This problem is related to Bin packing problem that it can be described mathematically as follows.\n",
    "\n",
    "## **Bin Packing Problem**\n",
    "\n",
    "There are $n$ items to be packed and an infinite number of available bins of size $B$. \\\n",
    "The sizes $0 \\leq s_{i} \\leq B$ of individual items are assumed to be known. \\\n",
    "The problem is to determine how to pack these $n$ items in bins of size $B$ so that the number of required bins is minimum."
   ]
  },
  {
   "cell_type": "markdown",
   "metadata": {},
   "source": [
    "Let's do some math:\n",
    "\n",
    "In a simple formulation, a variable X indicates whether an item is packed in a given bin (or whether the small cable $i$ was cut from the large cable $j$ ), and a variable Y specifies if a bin is used in the solution or not (or whether cable $j$ was used or not). \n",
    "\n",
    "$$ X_{ij} = \\left\\{\\begin{array}{ll}1 & \\text{if item i is packed in bin j} \\\\\n",
    "                                   0  & \\text{otherwise} \\end{array} \\right.\\\\$$\n",
    "\n",
    "$$ Y_j = \\left\\{\\begin{array}{ll}   1  & \\text{if bin $j$ is used} \\\\\n",
    "                                   0  & \\text{otherwise} \\end{array} \\right. $$\n",
    "\n",
    "For simplicity in formulation let's assume that an upper bound $U$ of the number of bins is given so $i \\in \\{1,2,...,n\\}$ and $j \\in \\{1,2,..., U\\}$.\n",
    "\n",
    "$$\\text{minimize} \\quad  \\sum_{j=1}^U Y_{j}$$\n",
    "\n",
    "\n",
    "subject to:\n",
    "\n",
    "- Item i is packed in exactly one bin\n",
    "$$ \\quad \\sum_{j=1}^U X_{ij} = 1  \\text{ for } i=1,\\cdots,n$$\n",
    "- Capacity constraint for each bin: Sum of sizes of items packed into a bin does not exceed the size of the bin. \n",
    "$$\\sum_{i=1}^n s_i X_{ij} \\leq B Y_{j}               \\text{ for } j=1,\\cdots,U\\\\$$\n",
    "- Strong Formulation\n",
    "\n",
    "$$X_{ij} \\leq Y_{j}                                  \\text{ for } i=1,\\cdots,n; j=1,\\cdots,U\\\\$$\n",
    "$$X_{ij} \\in \\{ 0,1 \\}                            \\text{ for }  i=1,\\cdots,n; j=1,\\cdots,U \\\\$$\n",
    "$$Y_j \\in \\{ 0,1 \\}                               \\text{ for }  j=1,\\cdots,U $$\n"
   ]
  },
  {
   "cell_type": "markdown",
   "metadata": {},
   "source": [
    "Let's build an example:"
   ]
  },
  {
   "cell_type": "code",
   "execution_count": 1,
   "metadata": {},
   "outputs": [
    {
     "data": {
      "text/plain": [
       "[2, 2, 2, 2, 3, 3, 4, 4, 4, 4, 4, 4, 5, 5, 5, 5, 5, 5, 6, 6, 7, 7, 8, 8]"
      ]
     },
     "execution_count": 1,
     "metadata": {},
     "output_type": "execute_result"
    }
   ],
   "source": [
    "B = 9 # Max Capacity: Cable are 9 meters long \n",
    "w = [2,3,4,5,6,7,8] # Demand: smaller cable pieces lenthgs\n",
    "q = [4,2,6,6,2,2,2] # Demand: number of needed smaller pieces\n",
    "\n",
    "\n",
    "def get_demand(items):\n",
    "    w, q = items\n",
    "    s=[]\n",
    "    for j in range(len(w)):\n",
    "        for i in range(q[j]):\n",
    "            s.append(w[j])\n",
    "    return s\n",
    "\n",
    "demand = get_demand(items=(w, q))\n",
    "demand"
   ]
  },
  {
   "cell_type": "markdown",
   "metadata": {},
   "source": [
    "Next, we need to calculate the upper limit $U$ of the number of bins.\n",
    "\n",
    "The bin packing problem has been for a long time a field for the development of heuristics. Heuristics are procedures for obtaining a solution based on rules that do not guarantee that the optimum will be reached. A well-known heuristics for this problem is first-fit decreasing (FFD), which consists of arranging the items in non-increasing order of their size, and then for each item try inserting it in the first open bin where it fits; if no such bin exists, then open a new bin and insert the item there. Here is a simple implementation in Python."
   ]
  },
  {
   "cell_type": "markdown",
   "metadata": {},
   "source": [
    "## First-Fit decreasing (FFD) approach"
   ]
  },
  {
   "cell_type": "code",
   "execution_count": 2,
   "metadata": {},
   "outputs": [],
   "source": [
    "def FFD(s, B):\n",
    "    \"\"\"\n",
    "    Implements the First-Fit Decreasing (FFD) heuristic for the Bin Packing Problem.\n",
    "\n",
    "    Parameters:\n",
    "        s (list): List of item weights.\n",
    "        B (float): Bin capacity.\n",
    "\n",
    "    Returns:\n",
    "        list: List of bins, where each bin is represented as a list of item weights.\n",
    "    \"\"\"\n",
    "    \n",
    "    # The space remaining in bins currently in use\n",
    "    remain_space = [B]\n",
    "    solution = [[]]\n",
    "\n",
    "    # For itmes ordered in descending order\n",
    "    for item in sorted(s, reverse=True):\n",
    "\n",
    "        # For each bin lest check if there is space avilable\n",
    "        for j,free in enumerate(remain_space):\n",
    "            # if there is space available the current item is packed in j\n",
    "            if free >= item:\n",
    "                remain_space[j] -= item\n",
    "                solution[j].append(item)\n",
    "                break\n",
    "        # If the current item doesn’t fit in any bin, a new bin is created and the item is packed there. \n",
    "        else:\n",
    "            solution.append([item])\n",
    "            remain_space.append(B-item)\n",
    "    return solution"
   ]
  },
  {
   "cell_type": "code",
   "execution_count": 3,
   "metadata": {},
   "outputs": [
    {
     "data": {
      "text/plain": [
       "[[8],\n",
       " [8],\n",
       " [7, 2],\n",
       " [7, 2],\n",
       " [6, 3],\n",
       " [6, 3],\n",
       " [5, 4],\n",
       " [5, 4],\n",
       " [5, 4],\n",
       " [5, 4],\n",
       " [5, 4],\n",
       " [5, 4],\n",
       " [2, 2]]"
      ]
     },
     "execution_count": 3,
     "metadata": {},
     "output_type": "execute_result"
    }
   ],
   "source": [
    "solution_ffd = FFD(demand, B)\n",
    "solution_ffd"
   ]
  },
  {
   "cell_type": "code",
   "execution_count": 4,
   "metadata": {},
   "outputs": [
    {
     "data": {
      "image/png": "[encoded data removed]",
      "text/plain": [
       "<Figure size 1000x600 with 1 Axes>"
      ]
     },
     "metadata": {},
     "output_type": "display_data"
    },
    {
     "data": {
      "image/png": "[encoded data removed]",
      "text/plain": [
       "<Figure size 1000x600 with 1 Axes>"
      ]
     },
     "metadata": {},
     "output_type": "display_data"
    }
   ],
   "source": [
    "import matplotlib.pyplot as plt\n",
    "import matplotlib.patches as patches\n",
    "import seaborn as sns\n",
    "import pandas as pd\n",
    "\n",
    "def draw_rectangle(ax, x, y, ini_y = 0,  w=0.8, color=(1.0, 0.7058823529411765, 0.5098039215686274), label=None):\n",
    "    rect = patches.Rectangle((x - w/2, ini_y), w, y, linewidth=1, edgecolor='black', facecolor=color)\n",
    "    ax.add_patch(rect)\n",
    "    if label is not None:\n",
    "        ax.text(x, ini_y + y/2, label, ha='center', va='center', color='black', fontsize=10)\n",
    "    ax.autoscale()\n",
    "    return ax\n",
    "\n",
    "\n",
    "def plot_demand(demand_list, B=None):\n",
    "    labels = [str(i) for sublist in demand_list for i in sublist]\n",
    "    pal    = sns.color_palette(\"pastel\", len(set(labels)))\n",
    "    label_color_dict = dict(zip(set(labels), pal))\n",
    "\n",
    "    colors = [label_color_dict[lab] for lab in labels]\n",
    "    positions = [i for i, sublist in enumerate(demand_list) for _ in sublist]\n",
    "\n",
    "    data = pd.DataFrame({\n",
    "        'x': positions,\n",
    "        'y': [i for sublist in demand_list for i in sublist],\n",
    "        'label': labels,\n",
    "        'color': colors\n",
    "    })\n",
    "\n",
    "\n",
    "    used_position = {}\n",
    "\n",
    "    fig, ax = plt.subplots(figsize=(10, 6))\n",
    "    ax.axis('off')\n",
    "    for index, row in data.iterrows():\n",
    "        x = row['x']\n",
    "        y = row['y']\n",
    "        ini_y = used_position.get(x, 0)  \n",
    "        w=0.8\n",
    "        \n",
    "        if B is not None:\n",
    "            rect = patches.Rectangle((x - (w+0.2)/2, 0), w+0.2, B, linewidth=2, edgecolor='black', alpha=0.05, linestyle = '--')\n",
    "            ax.add_patch(rect)\n",
    "        ax = draw_rectangle(ax=ax, x=x, y=y, ini_y=ini_y, w=w, color=row['color'], label=row['label'])\n",
    "\n",
    "\n",
    "        used_position[x] = ini_y + y\n",
    "\n",
    "plot_demand([[d] for d in demand])\n",
    "plot_demand(solution_ffd, B)\n"
   ]
  },
  {
   "cell_type": "code",
   "execution_count": 5,
   "metadata": {},
   "outputs": [],
   "source": [
    "from pyscipopt import Model, quicksum, multidict\n",
    "\n",
    "def bpp(s,B):\n",
    "    \"\"\"\n",
    "    Parameters:\n",
    "        s (list): List of item weights.\n",
    "        B (float): Bin capacity.\n",
    "\n",
    "    Returns:\n",
    "        model: PySCIPOpt model representing the solved BPP.\n",
    "    \"\"\"\n",
    "\n",
    "    # Number of items\n",
    "    n = len(s)\n",
    "\n",
    "    # Number of bins (calculated using the FFD heuristic)\n",
    "    U = len(FFD(s,B))\n",
    "\n",
    "    # Create a SCIP optimization model\n",
    "    model = Model(\"bpp\")\n",
    "\n",
    "    # Decision variables\n",
    "    #  y[j]: binary variable indicating if bin j is bing used\n",
    "    x,y = {},{}\n",
    "\n",
    "    # x[i, j]: binary variable indicating if item i is in bin j\n",
    "    for i in range(n):\n",
    "        for j in range(U):\n",
    "            x[i,j] = model.addVar(vtype=\"B\", name=\"x(%s,%s)\"%(i,j))\n",
    "        \n",
    "    # y[j]: binary variable indicating if bin j is use\n",
    "    for j in range(U):\n",
    "        y[j] = model.addVar(vtype=\"B\", name=\"y(%s)\"%j)\n",
    "\n",
    "    # Constraint: Each item must be assigned to exactly one bin\n",
    "    for i in range(n):\n",
    "        model.addCons(quicksum(x[i,j] for j in range(U)) == 1, \"Assign(%s)\"%i)\n",
    "\n",
    "    # Constraint: Capacity constraint for each bin\n",
    "    for j in range(U):\n",
    "        model.addCons(quicksum(s[i]*x[i,j] for i in range(n)) <= B*y[j], \"Capac(%s)\"%j)\n",
    "\n",
    "    # Constraint: Strong Formulation\n",
    "    for j in range(U):\n",
    "        for i in range(n):\n",
    "            model.addCons(x[i,j] <= y[j], \"Strong(%s,%s)\"%(i,j))\n",
    "\n",
    "    # Objective: Minimize the number of used bins\n",
    "    model.setObjective(quicksum(y[j] for j in range(U)), \"minimize\")\n",
    "    # Store decision variables in the model for further analysis\n",
    "    model.data = x, y\n",
    "\n",
    "    return model\n",
    "\n",
    "def solveBinPacking(s,B):\n",
    "    \"\"\"\n",
    "    Solves the Bin Packing Problem (BPP)\n",
    "    and returns a list of bins containing the packed items.\n",
    "\n",
    "    Parameters:\n",
    "        s (list): List of item weights.\n",
    "        B (float): Bin capacity.\n",
    "\n",
    "    Returns:\n",
    "        list: List of bins, where each bin is represented as a sorted list of item weights.\n",
    "    \"\"\"\n",
    "    # Calculate the number of bins using the FFD heuristic\n",
    "    U = len(FFD(s,B))\n",
    "\n",
    "    # Create the BPP model\n",
    "    model = bpp(s,B)\n",
    "    x,_ = model.data\n",
    "\n",
    "    # Colve the BPP model\n",
    "    model.optimize()\n",
    "    \n",
    "    # Initialize bins as empty lists\n",
    "    bins = [[] for i in range(U)]\n",
    "\n",
    "    # Populate bins based on the solution\n",
    "    for (i,j) in x:\n",
    "        if model.getVal(x[i,j]) > .5:\n",
    "            bins[j].append(s[i])\n",
    "    \n",
    "    # Remove empty bins\n",
    "    for i in range(bins.count([])):\n",
    "        bins.remove([])\n",
    "\n",
    "    # Sort items within each bin\n",
    "    for b in bins:\n",
    "        b.sort()\n",
    "    \n",
    "    # Sort bins based on the first item in each bin\n",
    "    bins.sort()\n",
    "    \n",
    "    return bins"
   ]
  },
  {
   "cell_type": "code",
   "execution_count": 6,
   "metadata": {},
   "outputs": [
    {
     "data": {
      "text/plain": [
       "[[2, 2, 4],\n",
       " [2, 6],\n",
       " [2, 7],\n",
       " [3, 5],\n",
       " [3, 6],\n",
       " [4, 5],\n",
       " [4, 5],\n",
       " [4, 5],\n",
       " [4, 5],\n",
       " [4, 5],\n",
       " [7],\n",
       " [8],\n",
       " [8]]"
      ]
     },
     "execution_count": 6,
     "metadata": {},
     "output_type": "execute_result"
    }
   ],
   "source": [
    "solution = solveBinPacking(demand,B)\n",
    "solution"
   ]
  },
  {
   "cell_type": "code",
   "execution_count": 7,
   "metadata": {},
   "outputs": [
    {
     "data": {
      "image/png": "[encoded data removed]",
      "text/plain": [
       "<Figure size 1000x600 with 1 Axes>"
      ]
     },
     "metadata": {},
     "output_type": "display_data"
    }
   ],
   "source": [
    "plot_demand(solution, B)"
   ]
  },
  {
   "cell_type": "code",
   "execution_count": 8,
   "metadata": {},
   "outputs": [
    {
     "data": {
      "text/plain": [
       "13"
      ]
     },
     "execution_count": 8,
     "metadata": {},
     "output_type": "execute_result"
    }
   ],
   "source": [
    "len(solution)"
   ]
  },
  {
   "cell_type": "code",
   "execution_count": 9,
   "metadata": {},
   "outputs": [
    {
     "data": {
      "text/plain": [
       "13"
      ]
     },
     "execution_count": 9,
     "metadata": {},
     "output_type": "execute_result"
    }
   ],
   "source": [
    "len(solution_ffd)"
   ]
  },
  {
   "cell_type": "markdown",
   "metadata": {},
   "source": [
    "## Worese Case Sample"
   ]
  },
  {
   "cell_type": "code",
   "execution_count": 10,
   "metadata": {},
   "outputs": [
    {
     "name": "stdout",
     "output_type": "stream",
     "text": [
      "7 [6 4 3 2 2] [2 4 7 6 3]\n"
     ]
    }
   ],
   "source": [
    "import numpy as np\n",
    "\n",
    "while True:\n",
    "    B = np.random.randint(5, 9)\n",
    "    w = np.random.randint(2, B, 5)\n",
    "    q = np.random.randint(1, 10, 5)\n",
    "    demand = get_demand(items=(w, q))\n",
    "    solution_ffd = FFD(demand, B)\n",
    "    solution     = solveBinPacking(demand,B)\n",
    "    if len(solution) != len(solution_ffd):\n",
    "        print(B, w, q)\n",
    "        break\n"
   ]
  },
  {
   "cell_type": "code",
   "execution_count": 11,
   "metadata": {},
   "outputs": [],
   "source": [
    "solution_ffd = FFD(demand, B)\n",
    "solution     = solveBinPacking(demand,B)\n"
   ]
  },
  {
   "cell_type": "code",
   "execution_count": 12,
   "metadata": {},
   "outputs": [
    {
     "name": "stdout",
     "output_type": "stream",
     "text": [
      "10\n",
      "11\n"
     ]
    }
   ],
   "source": [
    "print(len(solution))\n",
    "print(len(solution_ffd))"
   ]
  },
  {
   "cell_type": "code",
   "execution_count": 13,
   "metadata": {},
   "outputs": [
    {
     "data": {
      "image/png": "[encoded data removed]",
      "text/plain": [
       "<Figure size 1000x600 with 1 Axes>"
      ]
     },
     "metadata": {},
     "output_type": "display_data"
    }
   ],
   "source": [
    "plot_demand(solution_ffd)"
   ]
  },
  {
   "cell_type": "code",
   "execution_count": 14,
   "metadata": {},
   "outputs": [
    {
     "data": {
      "image/png": "[encoded data removed]",
      "text/plain": [
       "<Figure size 1000x600 with 1 Axes>"
      ]
     },
     "metadata": {},
     "output_type": "display_data"
    }
   ],
   "source": [
    "plot_demand(solution)"
   ]
  },
  {
   "cell_type": "code",
   "execution_count": null,
   "metadata": {},
   "outputs": [],
   "source": []
  }
 ],
 "metadata": {
  "kernelspec": {
   "display_name": "base",
   "language": "python",
   "name": "python3"
  },
  "language_info": {
   "codemirror_mode": {
    "name": "ipython",
    "version": 3
   },
   "file_extension": ".py",
   "mimetype": "text/x-python",
   "name": "python",
   "nbconvert_exporter": "python",
   "pygments_lexer": "ipython3",
   "version": "3.11.5"
  }
 },
 "nbformat": 4,
 "nbformat_minor": 2
}
